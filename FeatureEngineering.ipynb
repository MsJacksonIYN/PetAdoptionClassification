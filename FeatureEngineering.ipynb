{
 "cells": [
  {
   "cell_type": "markdown",
   "metadata": {},
   "source": [
    "### Imports"
   ]
  },
  {
   "cell_type": "code",
   "execution_count": 1,
   "metadata": {},
   "outputs": [],
   "source": [
    "import pandas as pd\n",
    "import numpy as np\n",
    "import matplotlib.pyplot as plt\n",
    "import seaborn as sns\n",
    "import plotly_express as px"
   ]
  },
  {
   "cell_type": "code",
   "execution_count": 66,
   "metadata": {},
   "outputs": [],
   "source": [
    "pd.set_option('display.max_columns',500)\n",
    "pd.set_option('display.max_rows',500)"
   ]
  },
  {
   "cell_type": "code",
   "execution_count": 80,
   "metadata": {},
   "outputs": [],
   "source": [
    "df = pd.read_csv('cleaned_df.csv', index_col = 'Unnamed: 0')"
   ]
  },
  {
   "cell_type": "code",
   "execution_count": 81,
   "metadata": {},
   "outputs": [
    {
     "data": {
      "text/html": [
       "<div>\n",
       "<style scoped>\n",
       "    .dataframe tbody tr th:only-of-type {\n",
       "        vertical-align: middle;\n",
       "    }\n",
       "\n",
       "    .dataframe tbody tr th {\n",
       "        vertical-align: top;\n",
       "    }\n",
       "\n",
       "    .dataframe thead th {\n",
       "        text-align: right;\n",
       "    }\n",
       "</style>\n",
       "<table border=\"1\" class=\"dataframe\">\n",
       "  <thead>\n",
       "    <tr style=\"text-align: right;\">\n",
       "      <th></th>\n",
       "      <th>Name</th>\n",
       "      <th>Type</th>\n",
       "      <th>Breed</th>\n",
       "      <th>Color</th>\n",
       "      <th>Sex</th>\n",
       "      <th>Size</th>\n",
       "      <th>Animal ID</th>\n",
       "      <th>Days in Shelter</th>\n",
       "      <th>Intake Type</th>\n",
       "      <th>Intake Subtype</th>\n",
       "      <th>Outcome Type</th>\n",
       "      <th>Intake Condition</th>\n",
       "      <th>Intake Jurisdiction</th>\n",
       "      <th>PredomBreed</th>\n",
       "      <th>PredomColor</th>\n",
       "      <th>DOB</th>\n",
       "      <th>IntakeDate</th>\n",
       "      <th>IntakeAge</th>\n",
       "      <th>IntakeAgeYrs</th>\n",
       "    </tr>\n",
       "  </thead>\n",
       "  <tbody>\n",
       "    <tr>\n",
       "      <th>0</th>\n",
       "      <td>NaN</td>\n",
       "      <td>OTHER</td>\n",
       "      <td>BAT</td>\n",
       "      <td>BROWN</td>\n",
       "      <td>Unknown</td>\n",
       "      <td>SMALL</td>\n",
       "      <td>A384994</td>\n",
       "      <td>0</td>\n",
       "      <td>QUARANTINE</td>\n",
       "      <td>FLD_STRAY</td>\n",
       "      <td>EUTHANIZE</td>\n",
       "      <td>UNKNOWN</td>\n",
       "      <td>*SEBASTOPOL</td>\n",
       "      <td>BAT</td>\n",
       "      <td>BROWN</td>\n",
       "      <td>NaN</td>\n",
       "      <td>2019-03-17</td>\n",
       "      <td>NaN</td>\n",
       "      <td>-1.00</td>\n",
       "    </tr>\n",
       "    <tr>\n",
       "      <th>1</th>\n",
       "      <td>NaN</td>\n",
       "      <td>CAT</td>\n",
       "      <td>DOMESTIC SH</td>\n",
       "      <td>CREAM</td>\n",
       "      <td>Female</td>\n",
       "      <td>SMALL</td>\n",
       "      <td>A372719</td>\n",
       "      <td>0</td>\n",
       "      <td>STRAY</td>\n",
       "      <td>FIELD</td>\n",
       "      <td>EUTHANIZE</td>\n",
       "      <td>TREATABLE/REHAB</td>\n",
       "      <td>SANTA ROSA</td>\n",
       "      <td>DOMESTIC SH</td>\n",
       "      <td>CREAM</td>\n",
       "      <td>NaN</td>\n",
       "      <td>2018-05-21</td>\n",
       "      <td>NaN</td>\n",
       "      <td>-1.00</td>\n",
       "    </tr>\n",
       "    <tr>\n",
       "      <th>2</th>\n",
       "      <td>NaN</td>\n",
       "      <td>OTHER</td>\n",
       "      <td>BAT</td>\n",
       "      <td>BLACK</td>\n",
       "      <td>Unknown</td>\n",
       "      <td>SMALL</td>\n",
       "      <td>A385008</td>\n",
       "      <td>1</td>\n",
       "      <td>QUARANTINE</td>\n",
       "      <td>FLD_STRAY</td>\n",
       "      <td>EUTHANIZE</td>\n",
       "      <td>UNTREATABLE</td>\n",
       "      <td>SANTA ROSA</td>\n",
       "      <td>BAT</td>\n",
       "      <td>BLACK</td>\n",
       "      <td>NaN</td>\n",
       "      <td>2019-03-18</td>\n",
       "      <td>NaN</td>\n",
       "      <td>-1.00</td>\n",
       "    </tr>\n",
       "    <tr>\n",
       "      <th>3</th>\n",
       "      <td>DAISY</td>\n",
       "      <td>CAT</td>\n",
       "      <td>DOMESTIC MH</td>\n",
       "      <td>WHITE/TAN</td>\n",
       "      <td>Spayed</td>\n",
       "      <td>MED</td>\n",
       "      <td>A372551</td>\n",
       "      <td>7</td>\n",
       "      <td>OWNER SURRENDER</td>\n",
       "      <td>OVER THE COUNTER</td>\n",
       "      <td>EUTHANIZE</td>\n",
       "      <td>UNKNOWN</td>\n",
       "      <td>SANTA ROSA</td>\n",
       "      <td>DOMESTIC MH</td>\n",
       "      <td>WHITE</td>\n",
       "      <td>2010-05-15</td>\n",
       "      <td>2018-05-15</td>\n",
       "      <td>2922 days 00:00:00.000000000</td>\n",
       "      <td>8.01</td>\n",
       "    </tr>\n",
       "    <tr>\n",
       "      <th>4</th>\n",
       "      <td>NaN</td>\n",
       "      <td>CAT</td>\n",
       "      <td>DOMESTIC SH</td>\n",
       "      <td>CALICO/SEAL PT</td>\n",
       "      <td>Female</td>\n",
       "      <td>SMALL</td>\n",
       "      <td>A375772</td>\n",
       "      <td>4</td>\n",
       "      <td>STRAY</td>\n",
       "      <td>OVER THE COUNTER</td>\n",
       "      <td>EUTHANIZE</td>\n",
       "      <td>UNTREATABLE</td>\n",
       "      <td>SANTA ROSA</td>\n",
       "      <td>DOMESTIC SH</td>\n",
       "      <td>CALICO</td>\n",
       "      <td>2005-09-04</td>\n",
       "      <td>2018-09-04</td>\n",
       "      <td>4748 days 00:00:00.000000000</td>\n",
       "      <td>13.01</td>\n",
       "    </tr>\n",
       "  </tbody>\n",
       "</table>\n",
       "</div>"
      ],
      "text/plain": [
       "    Name   Type        Breed           Color      Sex   Size Animal ID  \\\n",
       "0    NaN  OTHER          BAT           BROWN  Unknown  SMALL   A384994   \n",
       "1    NaN    CAT  DOMESTIC SH           CREAM   Female  SMALL   A372719   \n",
       "2    NaN  OTHER          BAT           BLACK  Unknown  SMALL   A385008   \n",
       "3  DAISY    CAT  DOMESTIC MH       WHITE/TAN   Spayed    MED   A372551   \n",
       "4    NaN    CAT  DOMESTIC SH  CALICO/SEAL PT   Female  SMALL   A375772   \n",
       "\n",
       "   Days in Shelter      Intake Type    Intake Subtype Outcome Type  \\\n",
       "0                0       QUARANTINE         FLD_STRAY    EUTHANIZE   \n",
       "1                0            STRAY             FIELD    EUTHANIZE   \n",
       "2                1       QUARANTINE         FLD_STRAY    EUTHANIZE   \n",
       "3                7  OWNER SURRENDER  OVER THE COUNTER    EUTHANIZE   \n",
       "4                4            STRAY  OVER THE COUNTER    EUTHANIZE   \n",
       "\n",
       "  Intake Condition Intake Jurisdiction  PredomBreed PredomColor         DOB  \\\n",
       "0          UNKNOWN         *SEBASTOPOL          BAT       BROWN         NaN   \n",
       "1  TREATABLE/REHAB          SANTA ROSA  DOMESTIC SH       CREAM         NaN   \n",
       "2      UNTREATABLE          SANTA ROSA          BAT       BLACK         NaN   \n",
       "3          UNKNOWN          SANTA ROSA  DOMESTIC MH       WHITE  2010-05-15   \n",
       "4      UNTREATABLE          SANTA ROSA  DOMESTIC SH      CALICO  2005-09-04   \n",
       "\n",
       "   IntakeDate                     IntakeAge  IntakeAgeYrs  \n",
       "0  2019-03-17                           NaN         -1.00  \n",
       "1  2018-05-21                           NaN         -1.00  \n",
       "2  2019-03-18                           NaN         -1.00  \n",
       "3  2018-05-15  2922 days 00:00:00.000000000          8.01  \n",
       "4  2018-09-04  4748 days 00:00:00.000000000         13.01  "
      ]
     },
     "execution_count": 81,
     "metadata": {},
     "output_type": "execute_result"
    }
   ],
   "source": [
    "df.head()"
   ]
  },
  {
   "cell_type": "code",
   "execution_count": 82,
   "metadata": {},
   "outputs": [
    {
     "name": "stdout",
     "output_type": "stream",
     "text": [
      "<class 'pandas.core.frame.DataFrame'>\n",
      "Int64Index: 16457 entries, 0 to 16791\n",
      "Data columns (total 19 columns):\n",
      "Name                   12450 non-null object\n",
      "Type                   16457 non-null object\n",
      "Breed                  16457 non-null object\n",
      "Color                  16457 non-null object\n",
      "Sex                    16457 non-null object\n",
      "Size                   16457 non-null object\n",
      "Animal ID              16457 non-null object\n",
      "Days in Shelter        16457 non-null int64\n",
      "Intake Type            16457 non-null object\n",
      "Intake Subtype         16457 non-null object\n",
      "Outcome Type           16457 non-null object\n",
      "Intake Condition       16457 non-null object\n",
      "Intake Jurisdiction    16457 non-null object\n",
      "PredomBreed            16457 non-null object\n",
      "PredomColor            16457 non-null object\n",
      "DOB                    12680 non-null object\n",
      "IntakeDate             16457 non-null object\n",
      "IntakeAge              12680 non-null object\n",
      "IntakeAgeYrs           16457 non-null float64\n",
      "dtypes: float64(1), int64(1), object(17)\n",
      "memory usage: 2.5+ MB\n"
     ]
    }
   ],
   "source": [
    "df.info()"
   ]
  },
  {
   "cell_type": "code",
   "execution_count": 83,
   "metadata": {},
   "outputs": [
    {
     "data": {
      "text/html": [
       "<div>\n",
       "<style scoped>\n",
       "    .dataframe tbody tr th:only-of-type {\n",
       "        vertical-align: middle;\n",
       "    }\n",
       "\n",
       "    .dataframe tbody tr th {\n",
       "        vertical-align: top;\n",
       "    }\n",
       "\n",
       "    .dataframe thead th {\n",
       "        text-align: right;\n",
       "    }\n",
       "</style>\n",
       "<table border=\"1\" class=\"dataframe\">\n",
       "  <thead>\n",
       "    <tr style=\"text-align: right;\">\n",
       "      <th></th>\n",
       "      <th>Days in Shelter</th>\n",
       "      <th>IntakeAgeYrs</th>\n",
       "    </tr>\n",
       "  </thead>\n",
       "  <tbody>\n",
       "    <tr>\n",
       "      <th>count</th>\n",
       "      <td>16457.000000</td>\n",
       "      <td>16457.000000</td>\n",
       "    </tr>\n",
       "    <tr>\n",
       "      <th>mean</th>\n",
       "      <td>17.153734</td>\n",
       "      <td>2.415546</td>\n",
       "    </tr>\n",
       "    <tr>\n",
       "      <th>std</th>\n",
       "      <td>28.458548</td>\n",
       "      <td>3.880925</td>\n",
       "    </tr>\n",
       "    <tr>\n",
       "      <th>min</th>\n",
       "      <td>0.000000</td>\n",
       "      <td>-1.000000</td>\n",
       "    </tr>\n",
       "    <tr>\n",
       "      <th>25%</th>\n",
       "      <td>1.000000</td>\n",
       "      <td>0.080000</td>\n",
       "    </tr>\n",
       "    <tr>\n",
       "      <th>50%</th>\n",
       "      <td>9.000000</td>\n",
       "      <td>0.950000</td>\n",
       "    </tr>\n",
       "    <tr>\n",
       "      <th>75%</th>\n",
       "      <td>22.000000</td>\n",
       "      <td>3.770000</td>\n",
       "    </tr>\n",
       "    <tr>\n",
       "      <th>max</th>\n",
       "      <td>791.000000</td>\n",
       "      <td>25.950000</td>\n",
       "    </tr>\n",
       "  </tbody>\n",
       "</table>\n",
       "</div>"
      ],
      "text/plain": [
       "       Days in Shelter  IntakeAgeYrs\n",
       "count     16457.000000  16457.000000\n",
       "mean         17.153734      2.415546\n",
       "std          28.458548      3.880925\n",
       "min           0.000000     -1.000000\n",
       "25%           1.000000      0.080000\n",
       "50%           9.000000      0.950000\n",
       "75%          22.000000      3.770000\n",
       "max         791.000000     25.950000"
      ]
     },
     "execution_count": 83,
     "metadata": {},
     "output_type": "execute_result"
    }
   ],
   "source": [
    "df.describe()"
   ]
  },
  {
   "cell_type": "code",
   "execution_count": 84,
   "metadata": {},
   "outputs": [
    {
     "data": {
      "text/plain": [
       "Index(['Name', 'Type', 'Breed', 'Color', 'Sex', 'Size', 'Animal ID',\n",
       "       'Days in Shelter', 'Intake Type', 'Intake Subtype', 'Outcome Type',\n",
       "       'Intake Condition', 'Intake Jurisdiction', 'PredomBreed', 'PredomColor',\n",
       "       'DOB', 'IntakeDate', 'IntakeAge', 'IntakeAgeYrs'],\n",
       "      dtype='object')"
      ]
     },
     "execution_count": 84,
     "metadata": {},
     "output_type": "execute_result"
    }
   ],
   "source": [
    "df.columns"
   ]
  },
  {
   "cell_type": "markdown",
   "metadata": {},
   "source": [
    "# Feature Engineering"
   ]
  },
  {
   "cell_type": "code",
   "execution_count": 85,
   "metadata": {},
   "outputs": [],
   "source": [
    "df.drop(['Name','Breed','Color','Animal ID','DOB','IntakeDate','IntakeAge'], axis=1, inplace=True)"
   ]
  },
  {
   "cell_type": "code",
   "execution_count": 86,
   "metadata": {},
   "outputs": [
    {
     "data": {
      "text/html": [
       "<div>\n",
       "<style scoped>\n",
       "    .dataframe tbody tr th:only-of-type {\n",
       "        vertical-align: middle;\n",
       "    }\n",
       "\n",
       "    .dataframe tbody tr th {\n",
       "        vertical-align: top;\n",
       "    }\n",
       "\n",
       "    .dataframe thead th {\n",
       "        text-align: right;\n",
       "    }\n",
       "</style>\n",
       "<table border=\"1\" class=\"dataframe\">\n",
       "  <thead>\n",
       "    <tr style=\"text-align: right;\">\n",
       "      <th></th>\n",
       "      <th>Type</th>\n",
       "      <th>Sex</th>\n",
       "      <th>Size</th>\n",
       "      <th>Days in Shelter</th>\n",
       "      <th>Intake Type</th>\n",
       "      <th>Intake Subtype</th>\n",
       "      <th>Outcome Type</th>\n",
       "      <th>Intake Condition</th>\n",
       "      <th>Intake Jurisdiction</th>\n",
       "      <th>PredomBreed</th>\n",
       "      <th>PredomColor</th>\n",
       "      <th>IntakeAgeYrs</th>\n",
       "    </tr>\n",
       "  </thead>\n",
       "  <tbody>\n",
       "    <tr>\n",
       "      <th>0</th>\n",
       "      <td>OTHER</td>\n",
       "      <td>Unknown</td>\n",
       "      <td>SMALL</td>\n",
       "      <td>0</td>\n",
       "      <td>QUARANTINE</td>\n",
       "      <td>FLD_STRAY</td>\n",
       "      <td>EUTHANIZE</td>\n",
       "      <td>UNKNOWN</td>\n",
       "      <td>*SEBASTOPOL</td>\n",
       "      <td>BAT</td>\n",
       "      <td>BROWN</td>\n",
       "      <td>-1.00</td>\n",
       "    </tr>\n",
       "    <tr>\n",
       "      <th>1</th>\n",
       "      <td>CAT</td>\n",
       "      <td>Female</td>\n",
       "      <td>SMALL</td>\n",
       "      <td>0</td>\n",
       "      <td>STRAY</td>\n",
       "      <td>FIELD</td>\n",
       "      <td>EUTHANIZE</td>\n",
       "      <td>TREATABLE/REHAB</td>\n",
       "      <td>SANTA ROSA</td>\n",
       "      <td>DOMESTIC SH</td>\n",
       "      <td>CREAM</td>\n",
       "      <td>-1.00</td>\n",
       "    </tr>\n",
       "    <tr>\n",
       "      <th>2</th>\n",
       "      <td>OTHER</td>\n",
       "      <td>Unknown</td>\n",
       "      <td>SMALL</td>\n",
       "      <td>1</td>\n",
       "      <td>QUARANTINE</td>\n",
       "      <td>FLD_STRAY</td>\n",
       "      <td>EUTHANIZE</td>\n",
       "      <td>UNTREATABLE</td>\n",
       "      <td>SANTA ROSA</td>\n",
       "      <td>BAT</td>\n",
       "      <td>BLACK</td>\n",
       "      <td>-1.00</td>\n",
       "    </tr>\n",
       "    <tr>\n",
       "      <th>3</th>\n",
       "      <td>CAT</td>\n",
       "      <td>Spayed</td>\n",
       "      <td>MED</td>\n",
       "      <td>7</td>\n",
       "      <td>OWNER SURRENDER</td>\n",
       "      <td>OVER THE COUNTER</td>\n",
       "      <td>EUTHANIZE</td>\n",
       "      <td>UNKNOWN</td>\n",
       "      <td>SANTA ROSA</td>\n",
       "      <td>DOMESTIC MH</td>\n",
       "      <td>WHITE</td>\n",
       "      <td>8.01</td>\n",
       "    </tr>\n",
       "    <tr>\n",
       "      <th>4</th>\n",
       "      <td>CAT</td>\n",
       "      <td>Female</td>\n",
       "      <td>SMALL</td>\n",
       "      <td>4</td>\n",
       "      <td>STRAY</td>\n",
       "      <td>OVER THE COUNTER</td>\n",
       "      <td>EUTHANIZE</td>\n",
       "      <td>UNTREATABLE</td>\n",
       "      <td>SANTA ROSA</td>\n",
       "      <td>DOMESTIC SH</td>\n",
       "      <td>CALICO</td>\n",
       "      <td>13.01</td>\n",
       "    </tr>\n",
       "  </tbody>\n",
       "</table>\n",
       "</div>"
      ],
      "text/plain": [
       "    Type      Sex   Size  Days in Shelter      Intake Type    Intake Subtype  \\\n",
       "0  OTHER  Unknown  SMALL                0       QUARANTINE         FLD_STRAY   \n",
       "1    CAT   Female  SMALL                0            STRAY             FIELD   \n",
       "2  OTHER  Unknown  SMALL                1       QUARANTINE         FLD_STRAY   \n",
       "3    CAT   Spayed    MED                7  OWNER SURRENDER  OVER THE COUNTER   \n",
       "4    CAT   Female  SMALL                4            STRAY  OVER THE COUNTER   \n",
       "\n",
       "  Outcome Type Intake Condition Intake Jurisdiction  PredomBreed PredomColor  \\\n",
       "0    EUTHANIZE          UNKNOWN         *SEBASTOPOL          BAT       BROWN   \n",
       "1    EUTHANIZE  TREATABLE/REHAB          SANTA ROSA  DOMESTIC SH       CREAM   \n",
       "2    EUTHANIZE      UNTREATABLE          SANTA ROSA          BAT       BLACK   \n",
       "3    EUTHANIZE          UNKNOWN          SANTA ROSA  DOMESTIC MH       WHITE   \n",
       "4    EUTHANIZE      UNTREATABLE          SANTA ROSA  DOMESTIC SH      CALICO   \n",
       "\n",
       "   IntakeAgeYrs  \n",
       "0         -1.00  \n",
       "1         -1.00  \n",
       "2         -1.00  \n",
       "3          8.01  \n",
       "4         13.01  "
      ]
     },
     "execution_count": 86,
     "metadata": {},
     "output_type": "execute_result"
    }
   ],
   "source": [
    "df.head()"
   ]
  },
  {
   "cell_type": "code",
   "execution_count": 87,
   "metadata": {},
   "outputs": [
    {
     "data": {
      "text/plain": [
       "<matplotlib.axes._subplots.AxesSubplot at 0x1a268af400>"
      ]
     },
     "execution_count": 87,
     "metadata": {},
     "output_type": "execute_result"
    },
    {
     "data": {
      "image/png": "[encoded data removed]",
      "text/plain": [
       "<Figure size 432x288 with 1 Axes>"
      ]
     },
     "metadata": {
      "needs_background": "light"
     },
     "output_type": "display_data"
    }
   ],
   "source": [
    "sns.heatmap(df.isnull(),yticklabels = False, cbar = False,cmap = 'tab20c_r')"
   ]
  },
  {
   "cell_type": "code",
   "execution_count": 89,
   "metadata": {},
   "outputs": [],
   "source": [
    "df.reset_index(drop=True, inplace=True)"
   ]
  },
  {
   "cell_type": "markdown",
   "metadata": {},
   "source": [
    "## Label Encoding"
   ]
  },
  {
   "cell_type": "code",
   "execution_count": 54,
   "metadata": {},
   "outputs": [],
   "source": [
    "from sklearn.preprocessing import LabelEncoder, PolynomialFeatures"
   ]
  },
  {
   "cell_type": "code",
   "execution_count": 43,
   "metadata": {},
   "outputs": [],
   "source": [
    "from collections import defaultdict"
   ]
  },
  {
   "cell_type": "code",
   "execution_count": 44,
   "metadata": {},
   "outputs": [],
   "source": [
    "d = defaultdict(LabelEncoder)"
   ]
  },
  {
   "cell_type": "code",
   "execution_count": 90,
   "metadata": {},
   "outputs": [],
   "source": [
    "# Encoding the variable\n",
    "fit = df.drop(['Days in Shelter', 'IntakeAgeYrs'], axis=1).apply(lambda x: d[x.name].fit_transform(x))\n",
    "\n",
    "# Inverse the encoded\n",
    "fit.apply(lambda x: d[x.name].inverse_transform(x))\n",
    "\n",
    "# Using the dictionary to label future data\n",
    "encoded = df.drop(['Days in Shelter', 'IntakeAgeYrs'], axis=1).apply(lambda x: d[x.name].transform(x))"
   ]
  },
  {
   "cell_type": "code",
   "execution_count": 91,
   "metadata": {},
   "outputs": [],
   "source": [
    "modeling = pd.concat([encoded, df[['Days in Shelter', 'IntakeAgeYrs']].copy()], axis=1)"
   ]
  },
  {
   "cell_type": "code",
   "execution_count": 92,
   "metadata": {},
   "outputs": [
    {
     "name": "stdout",
     "output_type": "stream",
     "text": [
      "<class 'pandas.core.frame.DataFrame'>\n",
      "RangeIndex: 16457 entries, 0 to 16456\n",
      "Data columns (total 12 columns):\n",
      "Type                   16457 non-null int64\n",
      "Sex                    16457 non-null int64\n",
      "Size                   16457 non-null int64\n",
      "Intake Type            16457 non-null int64\n",
      "Intake Subtype         16457 non-null int64\n",
      "Outcome Type           16457 non-null int64\n",
      "Intake Condition       16457 non-null int64\n",
      "Intake Jurisdiction    16457 non-null int64\n",
      "PredomBreed            16457 non-null int64\n",
      "PredomColor            16457 non-null int64\n",
      "Days in Shelter        16457 non-null int64\n",
      "IntakeAgeYrs           16457 non-null float64\n",
      "dtypes: float64(1), int64(11)\n",
      "memory usage: 1.5 MB\n"
     ]
    }
   ],
   "source": [
    "modeling.info()"
   ]
  },
  {
   "cell_type": "code",
   "execution_count": 93,
   "metadata": {},
   "outputs": [
    {
     "data": {
      "text/plain": [
       "<matplotlib.axes._subplots.AxesSubplot at 0x1a26a6a9e8>"
      ]
     },
     "execution_count": 93,
     "metadata": {},
     "output_type": "execute_result"
    },
    {
     "data": {
      "image/png": "[encoded data removed]",
      "text/plain": [
       "<Figure size 432x288 with 1 Axes>"
      ]
     },
     "metadata": {
      "needs_background": "light"
     },
     "output_type": "display_data"
    }
   ],
   "source": [
    "sns.heatmap(modeling.isnull(),yticklabels = False, cbar = False,cmap = 'tab20c_r')"
   ]
  },
  {
   "cell_type": "code",
   "execution_count": 94,
   "metadata": {},
   "outputs": [
    {
     "data": {
      "text/plain": [
       "<matplotlib.axes._subplots.AxesSubplot at 0x1a2696acf8>"
      ]
     },
     "execution_count": 94,
     "metadata": {},
     "output_type": "execute_result"
    },
    {
     "data": {
      "image/png": "[encoded data removed]",
      "text/plain": [
       "<Figure size 864x576 with 2 Axes>"
      ]
     },
     "metadata": {
      "needs_background": "light"
     },
     "output_type": "display_data"
    }
   ],
   "source": [
    "plt.figure(figsize=(12,8))\n",
    "sns.heatmap(modeling.corr())"
   ]
  },
  {
   "cell_type": "markdown",
   "metadata": {},
   "source": [
    "## Interaction Features"
   ]
  },
  {
   "cell_type": "code",
   "execution_count": 95,
   "metadata": {},
   "outputs": [],
   "source": [
    "features = modeling.drop(['Outcome Type'], axis = 1).copy()"
   ]
  },
  {
   "cell_type": "code",
   "execution_count": 96,
   "metadata": {},
   "outputs": [],
   "source": [
    "poly = PolynomialFeatures(interaction_only=True, include_bias=False)"
   ]
  },
  {
   "cell_type": "code",
   "execution_count": 97,
   "metadata": {},
   "outputs": [],
   "source": [
    "features = pd.DataFrame(poly.fit_transform(features), columns=poly.get_feature_names(input_features=features.columns))"
   ]
  },
  {
   "cell_type": "code",
   "execution_count": 98,
   "metadata": {},
   "outputs": [
    {
     "data": {
      "text/html": [
       "<div>\n",
       "<style scoped>\n",
       "    .dataframe tbody tr th:only-of-type {\n",
       "        vertical-align: middle;\n",
       "    }\n",
       "\n",
       "    .dataframe tbody tr th {\n",
       "        vertical-align: top;\n",
       "    }\n",
       "\n",
       "    .dataframe thead th {\n",
       "        text-align: right;\n",
       "    }\n",
       "</style>\n",
       "<table border=\"1\" class=\"dataframe\">\n",
       "  <thead>\n",
       "    <tr style=\"text-align: right;\">\n",
       "      <th></th>\n",
       "      <th>Type</th>\n",
       "      <th>Sex</th>\n",
       "      <th>Size</th>\n",
       "      <th>Intake Type</th>\n",
       "      <th>Intake Subtype</th>\n",
       "      <th>Intake Condition</th>\n",
       "      <th>Intake Jurisdiction</th>\n",
       "      <th>PredomBreed</th>\n",
       "      <th>PredomColor</th>\n",
       "      <th>Days in Shelter</th>\n",
       "      <th>IntakeAgeYrs</th>\n",
       "      <th>Type Sex</th>\n",
       "      <th>Type Size</th>\n",
       "      <th>Type Intake Type</th>\n",
       "      <th>Type Intake Subtype</th>\n",
       "      <th>Type Intake Condition</th>\n",
       "      <th>Type Intake Jurisdiction</th>\n",
       "      <th>Type PredomBreed</th>\n",
       "      <th>Type PredomColor</th>\n",
       "      <th>Type Days in Shelter</th>\n",
       "      <th>Type IntakeAgeYrs</th>\n",
       "      <th>Sex Size</th>\n",
       "      <th>Sex Intake Type</th>\n",
       "      <th>Sex Intake Subtype</th>\n",
       "      <th>Sex Intake Condition</th>\n",
       "      <th>Sex Intake Jurisdiction</th>\n",
       "      <th>Sex PredomBreed</th>\n",
       "      <th>Sex PredomColor</th>\n",
       "      <th>Sex Days in Shelter</th>\n",
       "      <th>Sex IntakeAgeYrs</th>\n",
       "      <th>Size Intake Type</th>\n",
       "      <th>Size Intake Subtype</th>\n",
       "      <th>Size Intake Condition</th>\n",
       "      <th>Size Intake Jurisdiction</th>\n",
       "      <th>Size PredomBreed</th>\n",
       "      <th>Size PredomColor</th>\n",
       "      <th>Size Days in Shelter</th>\n",
       "      <th>Size IntakeAgeYrs</th>\n",
       "      <th>Intake Type Intake Subtype</th>\n",
       "      <th>Intake Type Intake Condition</th>\n",
       "      <th>Intake Type Intake Jurisdiction</th>\n",
       "      <th>Intake Type PredomBreed</th>\n",
       "      <th>Intake Type PredomColor</th>\n",
       "      <th>Intake Type Days in Shelter</th>\n",
       "      <th>Intake Type IntakeAgeYrs</th>\n",
       "      <th>Intake Subtype Intake Condition</th>\n",
       "      <th>Intake Subtype Intake Jurisdiction</th>\n",
       "      <th>Intake Subtype PredomBreed</th>\n",
       "      <th>Intake Subtype PredomColor</th>\n",
       "      <th>Intake Subtype Days in Shelter</th>\n",
       "      <th>Intake Subtype IntakeAgeYrs</th>\n",
       "      <th>Intake Condition Intake Jurisdiction</th>\n",
       "      <th>Intake Condition PredomBreed</th>\n",
       "      <th>Intake Condition PredomColor</th>\n",
       "      <th>Intake Condition Days in Shelter</th>\n",
       "      <th>Intake Condition IntakeAgeYrs</th>\n",
       "      <th>Intake Jurisdiction PredomBreed</th>\n",
       "      <th>Intake Jurisdiction PredomColor</th>\n",
       "      <th>Intake Jurisdiction Days in Shelter</th>\n",
       "      <th>Intake Jurisdiction IntakeAgeYrs</th>\n",
       "      <th>PredomBreed PredomColor</th>\n",
       "      <th>PredomBreed Days in Shelter</th>\n",
       "      <th>PredomBreed IntakeAgeYrs</th>\n",
       "      <th>PredomColor Days in Shelter</th>\n",
       "      <th>PredomColor IntakeAgeYrs</th>\n",
       "      <th>Days in Shelter IntakeAgeYrs</th>\n",
       "    </tr>\n",
       "  </thead>\n",
       "  <tbody>\n",
       "    <tr>\n",
       "      <th>count</th>\n",
       "      <td>16457.000000</td>\n",
       "      <td>16457.000000</td>\n",
       "      <td>16457.000000</td>\n",
       "      <td>16457.000000</td>\n",
       "      <td>16457.000000</td>\n",
       "      <td>16457.000000</td>\n",
       "      <td>16457.000000</td>\n",
       "      <td>16457.000000</td>\n",
       "      <td>16457.000000</td>\n",
       "      <td>16457.000000</td>\n",
       "      <td>16457.000000</td>\n",
       "      <td>16457.000000</td>\n",
       "      <td>16457.000000</td>\n",
       "      <td>16457.000000</td>\n",
       "      <td>16457.000000</td>\n",
       "      <td>16457.000000</td>\n",
       "      <td>16457.000000</td>\n",
       "      <td>16457.000000</td>\n",
       "      <td>16457.000000</td>\n",
       "      <td>16457.000000</td>\n",
       "      <td>16457.000000</td>\n",
       "      <td>16457.000000</td>\n",
       "      <td>16457.000000</td>\n",
       "      <td>16457.000000</td>\n",
       "      <td>16457.000000</td>\n",
       "      <td>16457.000000</td>\n",
       "      <td>16457.000000</td>\n",
       "      <td>16457.000000</td>\n",
       "      <td>16457.000000</td>\n",
       "      <td>16457.000000</td>\n",
       "      <td>16457.000000</td>\n",
       "      <td>16457.000000</td>\n",
       "      <td>16457.000000</td>\n",
       "      <td>16457.000000</td>\n",
       "      <td>16457.000000</td>\n",
       "      <td>16457.000000</td>\n",
       "      <td>16457.000000</td>\n",
       "      <td>16457.000000</td>\n",
       "      <td>16457.000000</td>\n",
       "      <td>16457.000000</td>\n",
       "      <td>16457.000000</td>\n",
       "      <td>16457.000000</td>\n",
       "      <td>16457.000000</td>\n",
       "      <td>16457.000000</td>\n",
       "      <td>16457.000000</td>\n",
       "      <td>16457.000000</td>\n",
       "      <td>16457.000000</td>\n",
       "      <td>16457.000000</td>\n",
       "      <td>16457.000000</td>\n",
       "      <td>16457.000000</td>\n",
       "      <td>16457.000000</td>\n",
       "      <td>16457.000000</td>\n",
       "      <td>16457.000000</td>\n",
       "      <td>16457.000000</td>\n",
       "      <td>16457.000000</td>\n",
       "      <td>16457.000000</td>\n",
       "      <td>16457.000000</td>\n",
       "      <td>16457.000000</td>\n",
       "      <td>16457.000000</td>\n",
       "      <td>16457.000000</td>\n",
       "      <td>16457.000000</td>\n",
       "      <td>16457.000000</td>\n",
       "      <td>16457.000000</td>\n",
       "      <td>16457.000000</td>\n",
       "      <td>16457.000000</td>\n",
       "      <td>16457.000000</td>\n",
       "    </tr>\n",
       "    <tr>\n",
       "      <th>mean</th>\n",
       "      <td>0.722428</td>\n",
       "      <td>2.066962</td>\n",
       "      <td>2.513642</td>\n",
       "      <td>3.445342</td>\n",
       "      <td>7.663669</td>\n",
       "      <td>1.068117</td>\n",
       "      <td>9.143890</td>\n",
       "      <td>28.010026</td>\n",
       "      <td>6.928055</td>\n",
       "      <td>17.153734</td>\n",
       "      <td>2.415546</td>\n",
       "      <td>1.369630</td>\n",
       "      <td>2.020781</td>\n",
       "      <td>2.468858</td>\n",
       "      <td>5.157562</td>\n",
       "      <td>0.725345</td>\n",
       "      <td>6.621134</td>\n",
       "      <td>22.158656</td>\n",
       "      <td>5.668955</td>\n",
       "      <td>12.764781</td>\n",
       "      <td>1.844763</td>\n",
       "      <td>5.139697</td>\n",
       "      <td>7.123169</td>\n",
       "      <td>16.312876</td>\n",
       "      <td>2.050252</td>\n",
       "      <td>18.881570</td>\n",
       "      <td>56.859877</td>\n",
       "      <td>13.967977</td>\n",
       "      <td>37.770493</td>\n",
       "      <td>5.000982</td>\n",
       "      <td>8.614814</td>\n",
       "      <td>19.270462</td>\n",
       "      <td>2.685544</td>\n",
       "      <td>23.145531</td>\n",
       "      <td>69.260254</td>\n",
       "      <td>19.044601</td>\n",
       "      <td>40.846934</td>\n",
       "      <td>6.930347</td>\n",
       "      <td>25.645500</td>\n",
       "      <td>3.721638</td>\n",
       "      <td>31.566628</td>\n",
       "      <td>96.605092</td>\n",
       "      <td>23.856171</td>\n",
       "      <td>58.089992</td>\n",
       "      <td>8.073169</td>\n",
       "      <td>8.194203</td>\n",
       "      <td>70.529015</td>\n",
       "      <td>210.229993</td>\n",
       "      <td>51.600352</td>\n",
       "      <td>148.301209</td>\n",
       "      <td>19.399173</td>\n",
       "      <td>9.706629</td>\n",
       "      <td>29.079298</td>\n",
       "      <td>7.235280</td>\n",
       "      <td>17.641733</td>\n",
       "      <td>2.473777</td>\n",
       "      <td>256.825545</td>\n",
       "      <td>63.462843</td>\n",
       "      <td>156.701221</td>\n",
       "      <td>22.577950</td>\n",
       "      <td>201.205505</td>\n",
       "      <td>484.568330</td>\n",
       "      <td>68.294930</td>\n",
       "      <td>117.114784</td>\n",
       "      <td>18.054690</td>\n",
       "      <td>39.312790</td>\n",
       "    </tr>\n",
       "    <tr>\n",
       "      <th>std</th>\n",
       "      <td>0.592350</td>\n",
       "      <td>1.114992</td>\n",
       "      <td>1.666012</td>\n",
       "      <td>1.100699</td>\n",
       "      <td>6.176820</td>\n",
       "      <td>1.458522</td>\n",
       "      <td>1.397513</td>\n",
       "      <td>12.599100</td>\n",
       "      <td>7.044173</td>\n",
       "      <td>28.458548</td>\n",
       "      <td>3.880925</td>\n",
       "      <td>1.627586</td>\n",
       "      <td>2.284181</td>\n",
       "      <td>2.279326</td>\n",
       "      <td>7.098868</td>\n",
       "      <td>1.590652</td>\n",
       "      <td>5.534907</td>\n",
       "      <td>22.744486</td>\n",
       "      <td>8.642696</td>\n",
       "      <td>30.394968</td>\n",
       "      <td>3.583111</td>\n",
       "      <td>4.898346</td>\n",
       "      <td>4.669493</td>\n",
       "      <td>16.942358</td>\n",
       "      <td>3.674428</td>\n",
       "      <td>10.631307</td>\n",
       "      <td>40.974095</td>\n",
       "      <td>17.684853</td>\n",
       "      <td>72.623370</td>\n",
       "      <td>8.938926</td>\n",
       "      <td>6.631386</td>\n",
       "      <td>23.340894</td>\n",
       "      <td>4.870514</td>\n",
       "      <td>15.996020</td>\n",
       "      <td>56.944013</td>\n",
       "      <td>25.636332</td>\n",
       "      <td>78.661077</td>\n",
       "      <td>13.791375</td>\n",
       "      <td>25.467052</td>\n",
       "      <td>5.384385</td>\n",
       "      <td>11.219241</td>\n",
       "      <td>55.115894</td>\n",
       "      <td>26.664185</td>\n",
       "      <td>108.437993</td>\n",
       "      <td>14.159105</td>\n",
       "      <td>15.444557</td>\n",
       "      <td>58.740851</td>\n",
       "      <td>206.177930</td>\n",
       "      <td>79.160656</td>\n",
       "      <td>365.929639</td>\n",
       "      <td>41.908642</td>\n",
       "      <td>13.459828</td>\n",
       "      <td>45.499117</td>\n",
       "      <td>15.909841</td>\n",
       "      <td>49.505969</td>\n",
       "      <td>8.901735</td>\n",
       "      <td>124.665166</td>\n",
       "      <td>66.058703</td>\n",
       "      <td>262.542082</td>\n",
       "      <td>36.925305</td>\n",
       "      <td>249.102307</td>\n",
       "      <td>945.506308</td>\n",
       "      <td>121.387912</td>\n",
       "      <td>297.817631</td>\n",
       "      <td>44.430499</td>\n",
       "      <td>148.680134</td>\n",
       "    </tr>\n",
       "    <tr>\n",
       "      <th>min</th>\n",
       "      <td>0.000000</td>\n",
       "      <td>0.000000</td>\n",
       "      <td>0.000000</td>\n",
       "      <td>0.000000</td>\n",
       "      <td>0.000000</td>\n",
       "      <td>0.000000</td>\n",
       "      <td>0.000000</td>\n",
       "      <td>0.000000</td>\n",
       "      <td>0.000000</td>\n",
       "      <td>0.000000</td>\n",
       "      <td>-1.000000</td>\n",
       "      <td>0.000000</td>\n",
       "      <td>0.000000</td>\n",
       "      <td>0.000000</td>\n",
       "      <td>0.000000</td>\n",
       "      <td>0.000000</td>\n",
       "      <td>0.000000</td>\n",
       "      <td>0.000000</td>\n",
       "      <td>0.000000</td>\n",
       "      <td>0.000000</td>\n",
       "      <td>-2.000000</td>\n",
       "      <td>0.000000</td>\n",
       "      <td>0.000000</td>\n",
       "      <td>0.000000</td>\n",
       "      <td>0.000000</td>\n",
       "      <td>0.000000</td>\n",
       "      <td>0.000000</td>\n",
       "      <td>0.000000</td>\n",
       "      <td>0.000000</td>\n",
       "      <td>-4.000000</td>\n",
       "      <td>0.000000</td>\n",
       "      <td>0.000000</td>\n",
       "      <td>0.000000</td>\n",
       "      <td>0.000000</td>\n",
       "      <td>0.000000</td>\n",
       "      <td>0.000000</td>\n",
       "      <td>0.000000</td>\n",
       "      <td>-6.000000</td>\n",
       "      <td>0.000000</td>\n",
       "      <td>0.000000</td>\n",
       "      <td>0.000000</td>\n",
       "      <td>0.000000</td>\n",
       "      <td>0.000000</td>\n",
       "      <td>0.000000</td>\n",
       "      <td>-5.000000</td>\n",
       "      <td>0.000000</td>\n",
       "      <td>0.000000</td>\n",
       "      <td>0.000000</td>\n",
       "      <td>0.000000</td>\n",
       "      <td>0.000000</td>\n",
       "      <td>-23.000000</td>\n",
       "      <td>0.000000</td>\n",
       "      <td>0.000000</td>\n",
       "      <td>0.000000</td>\n",
       "      <td>0.000000</td>\n",
       "      <td>-4.000000</td>\n",
       "      <td>0.000000</td>\n",
       "      <td>0.000000</td>\n",
       "      <td>0.000000</td>\n",
       "      <td>-12.000000</td>\n",
       "      <td>0.000000</td>\n",
       "      <td>0.000000</td>\n",
       "      <td>-56.000000</td>\n",
       "      <td>0.000000</td>\n",
       "      <td>-19.000000</td>\n",
       "      <td>-747.000000</td>\n",
       "    </tr>\n",
       "    <tr>\n",
       "      <th>25%</th>\n",
       "      <td>0.000000</td>\n",
       "      <td>1.000000</td>\n",
       "      <td>1.000000</td>\n",
       "      <td>4.000000</td>\n",
       "      <td>2.000000</td>\n",
       "      <td>0.000000</td>\n",
       "      <td>8.000000</td>\n",
       "      <td>21.000000</td>\n",
       "      <td>0.000000</td>\n",
       "      <td>1.000000</td>\n",
       "      <td>0.080000</td>\n",
       "      <td>0.000000</td>\n",
       "      <td>0.000000</td>\n",
       "      <td>0.000000</td>\n",
       "      <td>0.000000</td>\n",
       "      <td>0.000000</td>\n",
       "      <td>0.000000</td>\n",
       "      <td>0.000000</td>\n",
       "      <td>0.000000</td>\n",
       "      <td>0.000000</td>\n",
       "      <td>0.000000</td>\n",
       "      <td>0.000000</td>\n",
       "      <td>4.000000</td>\n",
       "      <td>3.000000</td>\n",
       "      <td>0.000000</td>\n",
       "      <td>10.000000</td>\n",
       "      <td>30.000000</td>\n",
       "      <td>0.000000</td>\n",
       "      <td>0.000000</td>\n",
       "      <td>-0.000000</td>\n",
       "      <td>4.000000</td>\n",
       "      <td>2.000000</td>\n",
       "      <td>0.000000</td>\n",
       "      <td>8.000000</td>\n",
       "      <td>25.000000</td>\n",
       "      <td>0.000000</td>\n",
       "      <td>0.000000</td>\n",
       "      <td>0.000000</td>\n",
       "      <td>8.000000</td>\n",
       "      <td>0.000000</td>\n",
       "      <td>30.000000</td>\n",
       "      <td>56.000000</td>\n",
       "      <td>0.000000</td>\n",
       "      <td>4.000000</td>\n",
       "      <td>0.160000</td>\n",
       "      <td>0.000000</td>\n",
       "      <td>16.000000</td>\n",
       "      <td>50.000000</td>\n",
       "      <td>0.000000</td>\n",
       "      <td>4.000000</td>\n",
       "      <td>0.260000</td>\n",
       "      <td>0.000000</td>\n",
       "      <td>0.000000</td>\n",
       "      <td>0.000000</td>\n",
       "      <td>0.000000</td>\n",
       "      <td>0.000000</td>\n",
       "      <td>176.000000</td>\n",
       "      <td>0.000000</td>\n",
       "      <td>10.000000</td>\n",
       "      <td>0.720000</td>\n",
       "      <td>0.000000</td>\n",
       "      <td>38.000000</td>\n",
       "      <td>1.760000</td>\n",
       "      <td>0.000000</td>\n",
       "      <td>0.000000</td>\n",
       "      <td>0.000000</td>\n",
       "    </tr>\n",
       "    <tr>\n",
       "      <th>50%</th>\n",
       "      <td>1.000000</td>\n",
       "      <td>2.000000</td>\n",
       "      <td>2.000000</td>\n",
       "      <td>4.000000</td>\n",
       "      <td>5.000000</td>\n",
       "      <td>0.000000</td>\n",
       "      <td>10.000000</td>\n",
       "      <td>22.000000</td>\n",
       "      <td>2.000000</td>\n",
       "      <td>9.000000</td>\n",
       "      <td>0.950000</td>\n",
       "      <td>1.000000</td>\n",
       "      <td>1.000000</td>\n",
       "      <td>3.000000</td>\n",
       "      <td>2.000000</td>\n",
       "      <td>0.000000</td>\n",
       "      <td>8.000000</td>\n",
       "      <td>15.000000</td>\n",
       "      <td>0.000000</td>\n",
       "      <td>1.000000</td>\n",
       "      <td>0.130000</td>\n",
       "      <td>4.000000</td>\n",
       "      <td>8.000000</td>\n",
       "      <td>6.000000</td>\n",
       "      <td>0.000000</td>\n",
       "      <td>20.000000</td>\n",
       "      <td>45.000000</td>\n",
       "      <td>4.000000</td>\n",
       "      <td>14.000000</td>\n",
       "      <td>1.380000</td>\n",
       "      <td>8.000000</td>\n",
       "      <td>8.000000</td>\n",
       "      <td>0.000000</td>\n",
       "      <td>20.000000</td>\n",
       "      <td>66.000000</td>\n",
       "      <td>6.000000</td>\n",
       "      <td>12.000000</td>\n",
       "      <td>1.950000</td>\n",
       "      <td>8.000000</td>\n",
       "      <td>0.000000</td>\n",
       "      <td>32.000000</td>\n",
       "      <td>88.000000</td>\n",
       "      <td>8.000000</td>\n",
       "      <td>26.000000</td>\n",
       "      <td>2.680000</td>\n",
       "      <td>0.000000</td>\n",
       "      <td>48.000000</td>\n",
       "      <td>110.000000</td>\n",
       "      <td>18.000000</td>\n",
       "      <td>36.000000</td>\n",
       "      <td>4.000000</td>\n",
       "      <td>0.000000</td>\n",
       "      <td>0.000000</td>\n",
       "      <td>0.000000</td>\n",
       "      <td>0.000000</td>\n",
       "      <td>0.000000</td>\n",
       "      <td>220.000000</td>\n",
       "      <td>20.000000</td>\n",
       "      <td>80.000000</td>\n",
       "      <td>7.920000</td>\n",
       "      <td>80.000000</td>\n",
       "      <td>198.000000</td>\n",
       "      <td>20.900000</td>\n",
       "      <td>15.000000</td>\n",
       "      <td>0.640000</td>\n",
       "      <td>3.770000</td>\n",
       "    </tr>\n",
       "    <tr>\n",
       "      <th>75%</th>\n",
       "      <td>1.000000</td>\n",
       "      <td>3.000000</td>\n",
       "      <td>4.000000</td>\n",
       "      <td>4.000000</td>\n",
       "      <td>13.000000</td>\n",
       "      <td>2.000000</td>\n",
       "      <td>10.000000</td>\n",
       "      <td>38.000000</td>\n",
       "      <td>15.000000</td>\n",
       "      <td>22.000000</td>\n",
       "      <td>3.770000</td>\n",
       "      <td>2.000000</td>\n",
       "      <td>4.000000</td>\n",
       "      <td>4.000000</td>\n",
       "      <td>11.000000</td>\n",
       "      <td>0.000000</td>\n",
       "      <td>10.000000</td>\n",
       "      <td>40.000000</td>\n",
       "      <td>13.000000</td>\n",
       "      <td>14.000000</td>\n",
       "      <td>2.860000</td>\n",
       "      <td>8.000000</td>\n",
       "      <td>12.000000</td>\n",
       "      <td>26.000000</td>\n",
       "      <td>3.000000</td>\n",
       "      <td>24.000000</td>\n",
       "      <td>84.000000</td>\n",
       "      <td>27.000000</td>\n",
       "      <td>48.000000</td>\n",
       "      <td>6.240000</td>\n",
       "      <td>16.000000</td>\n",
       "      <td>36.000000</td>\n",
       "      <td>4.000000</td>\n",
       "      <td>40.000000</td>\n",
       "      <td>88.000000</td>\n",
       "      <td>36.000000</td>\n",
       "      <td>52.000000</td>\n",
       "      <td>8.000000</td>\n",
       "      <td>52.000000</td>\n",
       "      <td>8.000000</td>\n",
       "      <td>40.000000</td>\n",
       "      <td>144.000000</td>\n",
       "      <td>44.000000</td>\n",
       "      <td>72.000000</td>\n",
       "      <td>11.840000</td>\n",
       "      <td>8.000000</td>\n",
       "      <td>130.000000</td>\n",
       "      <td>286.000000</td>\n",
       "      <td>45.000000</td>\n",
       "      <td>169.000000</td>\n",
       "      <td>19.500000</td>\n",
       "      <td>20.000000</td>\n",
       "      <td>44.000000</td>\n",
       "      <td>4.000000</td>\n",
       "      <td>9.000000</td>\n",
       "      <td>0.170000</td>\n",
       "      <td>336.000000</td>\n",
       "      <td>120.000000</td>\n",
       "      <td>200.000000</td>\n",
       "      <td>32.000000</td>\n",
       "      <td>308.000000</td>\n",
       "      <td>572.000000</td>\n",
       "      <td>93.590000</td>\n",
       "      <td>108.000000</td>\n",
       "      <td>15.000000</td>\n",
       "      <td>27.860000</td>\n",
       "    </tr>\n",
       "    <tr>\n",
       "      <th>max</th>\n",
       "      <td>2.000000</td>\n",
       "      <td>4.000000</td>\n",
       "      <td>6.000000</td>\n",
       "      <td>5.000000</td>\n",
       "      <td>23.000000</td>\n",
       "      <td>4.000000</td>\n",
       "      <td>12.000000</td>\n",
       "      <td>56.000000</td>\n",
       "      <td>19.000000</td>\n",
       "      <td>791.000000</td>\n",
       "      <td>25.950000</td>\n",
       "      <td>8.000000</td>\n",
       "      <td>12.000000</td>\n",
       "      <td>10.000000</td>\n",
       "      <td>46.000000</td>\n",
       "      <td>8.000000</td>\n",
       "      <td>24.000000</td>\n",
       "      <td>104.000000</td>\n",
       "      <td>38.000000</td>\n",
       "      <td>791.000000</td>\n",
       "      <td>51.900000</td>\n",
       "      <td>24.000000</td>\n",
       "      <td>20.000000</td>\n",
       "      <td>92.000000</td>\n",
       "      <td>16.000000</td>\n",
       "      <td>48.000000</td>\n",
       "      <td>220.000000</td>\n",
       "      <td>76.000000</td>\n",
       "      <td>2373.000000</td>\n",
       "      <td>71.970000</td>\n",
       "      <td>30.000000</td>\n",
       "      <td>138.000000</td>\n",
       "      <td>24.000000</td>\n",
       "      <td>72.000000</td>\n",
       "      <td>300.000000</td>\n",
       "      <td>114.000000</td>\n",
       "      <td>2988.000000</td>\n",
       "      <td>155.700000</td>\n",
       "      <td>115.000000</td>\n",
       "      <td>20.000000</td>\n",
       "      <td>60.000000</td>\n",
       "      <td>280.000000</td>\n",
       "      <td>95.000000</td>\n",
       "      <td>3955.000000</td>\n",
       "      <td>103.800000</td>\n",
       "      <td>92.000000</td>\n",
       "      <td>276.000000</td>\n",
       "      <td>1288.000000</td>\n",
       "      <td>437.000000</td>\n",
       "      <td>18124.000000</td>\n",
       "      <td>437.000000</td>\n",
       "      <td>48.000000</td>\n",
       "      <td>224.000000</td>\n",
       "      <td>76.000000</td>\n",
       "      <td>1256.000000</td>\n",
       "      <td>95.960000</td>\n",
       "      <td>672.000000</td>\n",
       "      <td>228.000000</td>\n",
       "      <td>6328.000000</td>\n",
       "      <td>240.120000</td>\n",
       "      <td>1008.000000</td>\n",
       "      <td>26004.000000</td>\n",
       "      <td>1243.080000</td>\n",
       "      <td>11865.000000</td>\n",
       "      <td>380.190000</td>\n",
       "      <td>9476.180000</td>\n",
       "    </tr>\n",
       "  </tbody>\n",
       "</table>\n",
       "</div>"
      ],
      "text/plain": [
       "               Type           Sex          Size   Intake Type  Intake Subtype  \\\n",
       "count  16457.000000  16457.000000  16457.000000  16457.000000    16457.000000   \n",
       "mean       0.722428      2.066962      2.513642      3.445342        7.663669   \n",
       "std        0.592350      1.114992      1.666012      1.100699        6.176820   \n",
       "min        0.000000      0.000000      0.000000      0.000000        0.000000   \n",
       "25%        0.000000      1.000000      1.000000      4.000000        2.000000   \n",
       "50%        1.000000      2.000000      2.000000      4.000000        5.000000   \n",
       "75%        1.000000      3.000000      4.000000      4.000000       13.000000   \n",
       "max        2.000000      4.000000      6.000000      5.000000       23.000000   \n",
       "\n",
       "       Intake Condition  Intake Jurisdiction   PredomBreed   PredomColor  \\\n",
       "count      16457.000000         16457.000000  16457.000000  16457.000000   \n",
       "mean           1.068117             9.143890     28.010026      6.928055   \n",
       "std            1.458522             1.397513     12.599100      7.044173   \n",
       "min            0.000000             0.000000      0.000000      0.000000   \n",
       "25%            0.000000             8.000000     21.000000      0.000000   \n",
       "50%            0.000000            10.000000     22.000000      2.000000   \n",
       "75%            2.000000            10.000000     38.000000     15.000000   \n",
       "max            4.000000            12.000000     56.000000     19.000000   \n",
       "\n",
       "       Days in Shelter  IntakeAgeYrs      Type Sex     Type Size  \\\n",
       "count     16457.000000  16457.000000  16457.000000  16457.000000   \n",
       "mean         17.153734      2.415546      1.369630      2.020781   \n",
       "std          28.458548      3.880925      1.627586      2.284181   \n",
       "min           0.000000     -1.000000      0.000000      0.000000   \n",
       "25%           1.000000      0.080000      0.000000      0.000000   \n",
       "50%           9.000000      0.950000      1.000000      1.000000   \n",
       "75%          22.000000      3.770000      2.000000      4.000000   \n",
       "max         791.000000     25.950000      8.000000     12.000000   \n",
       "\n",
       "       Type Intake Type  Type Intake Subtype  Type Intake Condition  \\\n",
       "count      16457.000000         16457.000000           16457.000000   \n",
       "mean           2.468858             5.157562               0.725345   \n",
       "std            2.279326             7.098868               1.590652   \n",
       "min            0.000000             0.000000               0.000000   \n",
       "25%            0.000000             0.000000               0.000000   \n",
       "50%            3.000000             2.000000               0.000000   \n",
       "75%            4.000000            11.000000               0.000000   \n",
       "max           10.000000            46.000000               8.000000   \n",
       "\n",
       "       Type Intake Jurisdiction  Type PredomBreed  Type PredomColor  \\\n",
       "count              16457.000000      16457.000000      16457.000000   \n",
       "mean                   6.621134         22.158656          5.668955   \n",
       "std                    5.534907         22.744486          8.642696   \n",
       "min                    0.000000          0.000000          0.000000   \n",
       "25%                    0.000000          0.000000          0.000000   \n",
       "50%                    8.000000         15.000000          0.000000   \n",
       "75%                   10.000000         40.000000         13.000000   \n",
       "max                   24.000000        104.000000         38.000000   \n",
       "\n",
       "       Type Days in Shelter  Type IntakeAgeYrs      Sex Size  Sex Intake Type  \\\n",
       "count          16457.000000       16457.000000  16457.000000     16457.000000   \n",
       "mean              12.764781           1.844763      5.139697         7.123169   \n",
       "std               30.394968           3.583111      4.898346         4.669493   \n",
       "min                0.000000          -2.000000      0.000000         0.000000   \n",
       "25%                0.000000           0.000000      0.000000         4.000000   \n",
       "50%                1.000000           0.130000      4.000000         8.000000   \n",
       "75%               14.000000           2.860000      8.000000        12.000000   \n",
       "max              791.000000          51.900000     24.000000        20.000000   \n",
       "\n",
       "       Sex Intake Subtype  Sex Intake Condition  Sex Intake Jurisdiction  \\\n",
       "count        16457.000000          16457.000000             16457.000000   \n",
       "mean            16.312876              2.050252                18.881570   \n",
       "std             16.942358              3.674428                10.631307   \n",
       "min              0.000000              0.000000                 0.000000   \n",
       "25%              3.000000              0.000000                10.000000   \n",
       "50%              6.000000              0.000000                20.000000   \n",
       "75%             26.000000              3.000000                24.000000   \n",
       "max             92.000000             16.000000                48.000000   \n",
       "\n",
       "       Sex PredomBreed  Sex PredomColor  Sex Days in Shelter  \\\n",
       "count     16457.000000     16457.000000         16457.000000   \n",
       "mean         56.859877        13.967977            37.770493   \n",
       "std          40.974095        17.684853            72.623370   \n",
       "min           0.000000         0.000000             0.000000   \n",
       "25%          30.000000         0.000000             0.000000   \n",
       "50%          45.000000         4.000000            14.000000   \n",
       "75%          84.000000        27.000000            48.000000   \n",
       "max         220.000000        76.000000          2373.000000   \n",
       "\n",
       "       Sex IntakeAgeYrs  Size Intake Type  Size Intake Subtype  \\\n",
       "count      16457.000000      16457.000000         16457.000000   \n",
       "mean           5.000982          8.614814            19.270462   \n",
       "std            8.938926          6.631386            23.340894   \n",
       "min           -4.000000          0.000000             0.000000   \n",
       "25%           -0.000000          4.000000             2.000000   \n",
       "50%            1.380000          8.000000             8.000000   \n",
       "75%            6.240000         16.000000            36.000000   \n",
       "max           71.970000         30.000000           138.000000   \n",
       "\n",
       "       Size Intake Condition  Size Intake Jurisdiction  Size PredomBreed  \\\n",
       "count           16457.000000              16457.000000      16457.000000   \n",
       "mean                2.685544                 23.145531         69.260254   \n",
       "std                 4.870514                 15.996020         56.944013   \n",
       "min                 0.000000                  0.000000          0.000000   \n",
       "25%                 0.000000                  8.000000         25.000000   \n",
       "50%                 0.000000                 20.000000         66.000000   \n",
       "75%                 4.000000                 40.000000         88.000000   \n",
       "max                24.000000                 72.000000        300.000000   \n",
       "\n",
       "       Size PredomColor  Size Days in Shelter  Size IntakeAgeYrs  \\\n",
       "count      16457.000000          16457.000000       16457.000000   \n",
       "mean          19.044601             40.846934           6.930347   \n",
       "std           25.636332             78.661077          13.791375   \n",
       "min            0.000000              0.000000          -6.000000   \n",
       "25%            0.000000              0.000000           0.000000   \n",
       "50%            6.000000             12.000000           1.950000   \n",
       "75%           36.000000             52.000000           8.000000   \n",
       "max          114.000000           2988.000000         155.700000   \n",
       "\n",
       "       Intake Type Intake Subtype  Intake Type Intake Condition  \\\n",
       "count                16457.000000                  16457.000000   \n",
       "mean                    25.645500                      3.721638   \n",
       "std                     25.467052                      5.384385   \n",
       "min                      0.000000                      0.000000   \n",
       "25%                      8.000000                      0.000000   \n",
       "50%                      8.000000                      0.000000   \n",
       "75%                     52.000000                      8.000000   \n",
       "max                    115.000000                     20.000000   \n",
       "\n",
       "       Intake Type Intake Jurisdiction  Intake Type PredomBreed  \\\n",
       "count                     16457.000000             16457.000000   \n",
       "mean                         31.566628                96.605092   \n",
       "std                          11.219241                55.115894   \n",
       "min                           0.000000                 0.000000   \n",
       "25%                          30.000000                56.000000   \n",
       "50%                          32.000000                88.000000   \n",
       "75%                          40.000000               144.000000   \n",
       "max                          60.000000               280.000000   \n",
       "\n",
       "       Intake Type PredomColor  Intake Type Days in Shelter  \\\n",
       "count             16457.000000                 16457.000000   \n",
       "mean                 23.856171                    58.089992   \n",
       "std                  26.664185                   108.437993   \n",
       "min                   0.000000                     0.000000   \n",
       "25%                   0.000000                     4.000000   \n",
       "50%                   8.000000                    26.000000   \n",
       "75%                  44.000000                    72.000000   \n",
       "max                  95.000000                  3955.000000   \n",
       "\n",
       "       Intake Type IntakeAgeYrs  Intake Subtype Intake Condition  \\\n",
       "count              16457.000000                     16457.000000   \n",
       "mean                   8.073169                         8.194203   \n",
       "std                   14.159105                        15.444557   \n",
       "min                   -5.000000                         0.000000   \n",
       "25%                    0.160000                         0.000000   \n",
       "50%                    2.680000                         0.000000   \n",
       "75%                   11.840000                         8.000000   \n",
       "max                  103.800000                        92.000000   \n",
       "\n",
       "       Intake Subtype Intake Jurisdiction  Intake Subtype PredomBreed  \\\n",
       "count                        16457.000000                16457.000000   \n",
       "mean                            70.529015                  210.229993   \n",
       "std                             58.740851                  206.177930   \n",
       "min                              0.000000                    0.000000   \n",
       "25%                             16.000000                   50.000000   \n",
       "50%                             48.000000                  110.000000   \n",
       "75%                            130.000000                  286.000000   \n",
       "max                            276.000000                 1288.000000   \n",
       "\n",
       "       Intake Subtype PredomColor  Intake Subtype Days in Shelter  \\\n",
       "count                16457.000000                    16457.000000   \n",
       "mean                    51.600352                      148.301209   \n",
       "std                     79.160656                      365.929639   \n",
       "min                      0.000000                        0.000000   \n",
       "25%                      0.000000                        4.000000   \n",
       "50%                     18.000000                       36.000000   \n",
       "75%                     45.000000                      169.000000   \n",
       "max                    437.000000                    18124.000000   \n",
       "\n",
       "       Intake Subtype IntakeAgeYrs  Intake Condition Intake Jurisdiction  \\\n",
       "count                 16457.000000                          16457.000000   \n",
       "mean                     19.399173                              9.706629   \n",
       "std                      41.908642                             13.459828   \n",
       "min                     -23.000000                              0.000000   \n",
       "25%                       0.260000                              0.000000   \n",
       "50%                       4.000000                              0.000000   \n",
       "75%                      19.500000                             20.000000   \n",
       "max                     437.000000                             48.000000   \n",
       "\n",
       "       Intake Condition PredomBreed  Intake Condition PredomColor  \\\n",
       "count                  16457.000000                  16457.000000   \n",
       "mean                      29.079298                      7.235280   \n",
       "std                       45.499117                     15.909841   \n",
       "min                        0.000000                      0.000000   \n",
       "25%                        0.000000                      0.000000   \n",
       "50%                        0.000000                      0.000000   \n",
       "75%                       44.000000                      4.000000   \n",
       "max                      224.000000                     76.000000   \n",
       "\n",
       "       Intake Condition Days in Shelter  Intake Condition IntakeAgeYrs  \\\n",
       "count                      16457.000000                   16457.000000   \n",
       "mean                          17.641733                       2.473777   \n",
       "std                           49.505969                       8.901735   \n",
       "min                            0.000000                      -4.000000   \n",
       "25%                            0.000000                       0.000000   \n",
       "50%                            0.000000                       0.000000   \n",
       "75%                            9.000000                       0.170000   \n",
       "max                         1256.000000                      95.960000   \n",
       "\n",
       "       Intake Jurisdiction PredomBreed  Intake Jurisdiction PredomColor  \\\n",
       "count                     16457.000000                     16457.000000   \n",
       "mean                        256.825545                        63.462843   \n",
       "std                         124.665166                        66.058703   \n",
       "min                           0.000000                         0.000000   \n",
       "25%                         176.000000                         0.000000   \n",
       "50%                         220.000000                        20.000000   \n",
       "75%                         336.000000                       120.000000   \n",
       "max                         672.000000                       228.000000   \n",
       "\n",
       "       Intake Jurisdiction Days in Shelter  Intake Jurisdiction IntakeAgeYrs  \\\n",
       "count                         16457.000000                      16457.000000   \n",
       "mean                            156.701221                         22.577950   \n",
       "std                             262.542082                         36.925305   \n",
       "min                               0.000000                        -12.000000   \n",
       "25%                              10.000000                          0.720000   \n",
       "50%                              80.000000                          7.920000   \n",
       "75%                             200.000000                         32.000000   \n",
       "max                            6328.000000                        240.120000   \n",
       "\n",
       "       PredomBreed PredomColor  PredomBreed Days in Shelter  \\\n",
       "count             16457.000000                 16457.000000   \n",
       "mean                201.205505                   484.568330   \n",
       "std                 249.102307                   945.506308   \n",
       "min                   0.000000                     0.000000   \n",
       "25%                   0.000000                    38.000000   \n",
       "50%                  80.000000                   198.000000   \n",
       "75%                 308.000000                   572.000000   \n",
       "max                1008.000000                 26004.000000   \n",
       "\n",
       "       PredomBreed IntakeAgeYrs  PredomColor Days in Shelter  \\\n",
       "count              16457.000000                 16457.000000   \n",
       "mean                  68.294930                   117.114784   \n",
       "std                  121.387912                   297.817631   \n",
       "min                  -56.000000                     0.000000   \n",
       "25%                    1.760000                     0.000000   \n",
       "50%                   20.900000                    15.000000   \n",
       "75%                   93.590000                   108.000000   \n",
       "max                 1243.080000                 11865.000000   \n",
       "\n",
       "       PredomColor IntakeAgeYrs  Days in Shelter IntakeAgeYrs  \n",
       "count              16457.000000                  16457.000000  \n",
       "mean                  18.054690                     39.312790  \n",
       "std                   44.430499                    148.680134  \n",
       "min                  -19.000000                   -747.000000  \n",
       "25%                    0.000000                      0.000000  \n",
       "50%                    0.640000                      3.770000  \n",
       "75%                   15.000000                     27.860000  \n",
       "max                  380.190000                   9476.180000  "
      ]
     },
     "execution_count": 98,
     "metadata": {},
     "output_type": "execute_result"
    }
   ],
   "source": [
    "features.describe()"
   ]
  },
  {
   "cell_type": "code",
   "execution_count": 99,
   "metadata": {},
   "outputs": [],
   "source": [
    "modeling = pd.concat([features, modeling['Outcome Type']],axis=1)"
   ]
  },
  {
   "cell_type": "code",
   "execution_count": 100,
   "metadata": {},
   "outputs": [
    {
     "data": {
      "text/plain": [
       "<matplotlib.axes._subplots.AxesSubplot at 0x1a2672c438>"
      ]
     },
     "execution_count": 100,
     "metadata": {},
     "output_type": "execute_result"
    },
    {
     "data": {
      "image/png": "[encoded data removed]",
      "text/plain": [
       "<Figure size 432x288 with 1 Axes>"
      ]
     },
     "metadata": {
      "needs_background": "light"
     },
     "output_type": "display_data"
    }
   ],
   "source": [
    "sns.heatmap(modeling.isnull(),yticklabels = False, cbar = False,cmap = 'tab20c_r')"
   ]
  },
  {
   "cell_type": "code",
   "execution_count": 101,
   "metadata": {},
   "outputs": [],
   "source": [
    "modeling.to_csv('encoded_data.csv')"
   ]
  },
  {
   "cell_type": "markdown",
   "metadata": {},
   "source": [
    "# Train Test Split"
   ]
  },
  {
   "cell_type": "code",
   "execution_count": 72,
   "metadata": {},
   "outputs": [],
   "source": [
    "from sklearn.model_selection import train_test_split"
   ]
  },
  {
   "cell_type": "code",
   "execution_count": 102,
   "metadata": {},
   "outputs": [],
   "source": [
    "X_train, X_test, y_train, y_test = train_test_split(modeling.drop('Outcome Type', axis=1), modeling['Outcome Type'], test_size=0.2, random_state=42)"
   ]
  },
  {
   "cell_type": "markdown",
   "metadata": {},
   "source": [
    "# Over Sampling with SMOTE"
   ]
  },
  {
   "cell_type": "code",
   "execution_count": 75,
   "metadata": {},
   "outputs": [],
   "source": [
    "from imblearn.over_sampling import SMOTE"
   ]
  },
  {
   "cell_type": "code",
   "execution_count": 103,
   "metadata": {},
   "outputs": [],
   "source": [
    "sm = SMOTE(sampling_strategy='not majority', random_state=23, n_jobs = -1)\n",
    "X_train_sm, y_train_sm = sm.fit_sample(X_train, y_train)"
   ]
  },
  {
   "cell_type": "code",
   "execution_count": 105,
   "metadata": {},
   "outputs": [
    {
     "name": "stdout",
     "output_type": "stream",
     "text": [
      "Frequency of unique values of the said array:\n",
      "[[   0    1    2    3]\n",
      " [4495 4495 4495 4495]]\n"
     ]
    }
   ],
   "source": [
    "unique_elements, counts_elements = np.unique(y_train_sm, return_counts=True)\n",
    "print(\"Frequency of unique values of the said array:\")\n",
    "print(np.asarray((unique_elements, counts_elements)))"
   ]
  },
  {
   "cell_type": "markdown",
   "metadata": {},
   "source": [
    "# Models"
   ]
  },
  {
   "cell_type": "code",
   "execution_count": 110,
   "metadata": {},
   "outputs": [],
   "source": [
    "from sklearn.metrics import confusion_matrix, classification_report, f1_score, accuracy_score"
   ]
  },
  {
   "cell_type": "markdown",
   "metadata": {},
   "source": [
    "## Logistic Regression"
   ]
  },
  {
   "cell_type": "code",
   "execution_count": 106,
   "metadata": {},
   "outputs": [],
   "source": [
    "from sklearn.linear_model import LogisticRegression"
   ]
  },
  {
   "cell_type": "markdown",
   "metadata": {},
   "source": [
    "### Without upsampled training data"
   ]
  },
  {
   "cell_type": "code",
   "execution_count": 107,
   "metadata": {},
   "outputs": [],
   "source": [
    "lr = LogisticRegression(penalty='l2',C=1.0,fit_intercept=False,random_state=10,solver='lbfgs',multi_class='multinomial',verbose=2,n_jobs=-1)"
   ]
  },
  {
   "cell_type": "code",
   "execution_count": 132,
   "metadata": {},
   "outputs": [
    {
     "name": "stderr",
     "output_type": "stream",
     "text": [
      "[Parallel(n_jobs=-1)]: Using backend LokyBackend with 4 concurrent workers.\n",
      "[Parallel(n_jobs=-1)]: Done   1 out of   1 | elapsed:    2.0s finished\n"
     ]
    },
    {
     "data": {
      "text/plain": [
       "LogisticRegression(C=1.0, class_weight=None, dual=False, fit_intercept=False,\n",
       "          intercept_scaling=1, max_iter=100, multi_class='multinomial',\n",
       "          n_jobs=-1, penalty='l2', random_state=10, solver='lbfgs',\n",
       "          tol=0.0001, verbose=2, warm_start=False)"
      ]
     },
     "execution_count": 132,
     "metadata": {},
     "output_type": "execute_result"
    }
   ],
   "source": [
    "lr.fit(X_train,y_train)"
   ]
  },
  {
   "cell_type": "code",
   "execution_count": 109,
   "metadata": {},
   "outputs": [],
   "source": [
    "pred_train = lr.predict(X_train)\n",
    "pred_test = lr.predict(X_test)"
   ]
  },
  {
   "cell_type": "code",
   "execution_count": 139,
   "metadata": {},
   "outputs": [
    {
     "name": "stdout",
     "output_type": "stream",
     "text": [
      "f1 train:  0.7310292442081276\n",
      "f1 test:  0.7193195625759418\n",
      "Accuracy test:  0.7193195625759417\n"
     ]
    }
   ],
   "source": [
    "print('f1 train: ', f1_score(y_train, pred_train, average='micro'))\n",
    "print('f1 test: ', f1_score(y_test, pred_test, average='micro'))\n",
    "print('Accuracy test: ', accuracy_score(y_test, pred_test))"
   ]
  },
  {
   "cell_type": "code",
   "execution_count": 124,
   "metadata": {},
   "outputs": [
    {
     "data": {
      "text/plain": [
       "Text(42.0, 0.5, 'True Label')"
      ]
     },
     "execution_count": 124,
     "metadata": {},
     "output_type": "execute_result"
    },
    {
     "data": {
      "image/png": "[encoded data removed]",
      "text/plain": [
       "<Figure size 504x504 with 2 Axes>"
      ]
     },
     "metadata": {
      "needs_background": "light"
     },
     "output_type": "display_data"
    }
   ],
   "source": [
    "cm_lr = confusion_matrix(y_test, pred_test)\n",
    "\n",
    "plt.figure(figsize = (7, 7))\n",
    "sns.heatmap(cm_lr, annot = True, fmt = \".3f\", linewidths = .5, square = True, cmap = \"YlGnBu\")\n",
    "plt.title('Baseline Logistic Regression')\n",
    "plt.xlabel('Predicted Label')\n",
    "plt.ylabel('True Label')"
   ]
  },
  {
   "cell_type": "code",
   "execution_count": 122,
   "metadata": {},
   "outputs": [
    {
     "data": {
      "text/plain": [
       "array(['ADOPTION', 'EUTHANIZE', 'RETURN TO OWNER', 'TRANSFER'],\n",
       "      dtype=object)"
      ]
     },
     "execution_count": 122,
     "metadata": {},
     "output_type": "execute_result"
    }
   ],
   "source": [
    "d['Outcome Type'].inverse_transform([0,1,2,3])"
   ]
  },
  {
   "cell_type": "code",
   "execution_count": 129,
   "metadata": {
    "collapsed": true
   },
   "outputs": [
    {
     "data": {
      "text/plain": [
       "<matplotlib.axes._subplots.AxesSubplot at 0x1a289aef28>"
      ]
     },
     "execution_count": 129,
     "metadata": {},
     "output_type": "execute_result"
    },
    {
     "data": {
      "image/png": "[encoded data removed]",
      "text/plain": [
       "<Figure size 1152x576 with 1 Axes>"
      ]
     },
     "metadata": {
      "needs_background": "light"
     },
     "output_type": "display_data"
    }
   ],
   "source": [
    "coef = pd.DataFrame(data=lr.coef_ )\n",
    "coef.columns = features.columns\n",
    "\n",
    "model_coef = coef.T.sort_values(by=0).T\n",
    "model_coef.plot(kind='bar', title='Model Coefficients', legend=False, figsize=(16,8),)"
   ]
  },
  {
   "cell_type": "markdown",
   "metadata": {},
   "source": [
    "### With Upsampled training data"
   ]
  },
  {
   "cell_type": "code",
   "execution_count": 130,
   "metadata": {},
   "outputs": [],
   "source": [
    "lr_sm = LogisticRegression(penalty='l2',C=1.0,fit_intercept=False,random_state=10,solver='lbfgs',multi_class='multinomial',verbose=2,n_jobs=-1)"
   ]
  },
  {
   "cell_type": "code",
   "execution_count": 133,
   "metadata": {},
   "outputs": [
    {
     "name": "stderr",
     "output_type": "stream",
     "text": [
      "[Parallel(n_jobs=-1)]: Using backend LokyBackend with 4 concurrent workers.\n",
      "[Parallel(n_jobs=-1)]: Done   1 out of   1 | elapsed:    2.3s finished\n"
     ]
    },
    {
     "data": {
      "text/plain": [
       "LogisticRegression(C=1.0, class_weight=None, dual=False, fit_intercept=False,\n",
       "          intercept_scaling=1, max_iter=100, multi_class='multinomial',\n",
       "          n_jobs=-1, penalty='l2', random_state=10, solver='lbfgs',\n",
       "          tol=0.0001, verbose=2, warm_start=False)"
      ]
     },
     "execution_count": 133,
     "metadata": {},
     "output_type": "execute_result"
    }
   ],
   "source": [
    "lr_sm.fit(X_train_sm,y_train_sm)"
   ]
  },
  {
   "cell_type": "code",
   "execution_count": 134,
   "metadata": {},
   "outputs": [],
   "source": [
    "pred_train_lrsm = lr_sm.predict(X_train)\n",
    "pred_test_lrsm = lr_sm.predict(X_test)"
   ]
  },
  {
   "cell_type": "code",
   "execution_count": 137,
   "metadata": {},
   "outputs": [
    {
     "name": "stdout",
     "output_type": "stream",
     "text": [
      "f1 train:  0.7019369540448158\n",
      "f1 test:  0.6938031591737546\n",
      "Accuracy test:  0.6938031591737546\n"
     ]
    }
   ],
   "source": [
    "print('f1 train: ', f1_score(y_train, pred_train_lrsm, average='micro'))\n",
    "print('f1 test: ', f1_score(y_test, pred_test_lrsm, average='micro'))\n",
    "print('Accuracy test: ', accuracy_score(y_test, pred_test_lrsm))\n"
   ]
  },
  {
   "cell_type": "code",
   "execution_count": 136,
   "metadata": {},
   "outputs": [
    {
     "data": {
      "text/plain": [
       "Text(42.0, 0.5, 'True Label')"
      ]
     },
     "execution_count": 136,
     "metadata": {},
     "output_type": "execute_result"
    },
    {
     "data": {
      "image/png": "[encoded data removed]",
      "text/plain": [
       "<Figure size 504x504 with 2 Axes>"
      ]
     },
     "metadata": {
      "needs_background": "light"
     },
     "output_type": "display_data"
    }
   ],
   "source": [
    "cm_lrsm = confusion_matrix(y_test, pred_test_lrsm)\n",
    "\n",
    "plt.figure(figsize = (7, 7))\n",
    "sns.heatmap(cm_lrsm, annot = True, fmt = \".3f\", linewidths = .5, square = True, cmap = \"YlGnBu\")\n",
    "plt.title('Upsampled Logistic Regression')\n",
    "plt.xlabel('Predicted Label')\n",
    "plt.ylabel('True Label')"
   ]
  },
  {
   "cell_type": "markdown",
   "metadata": {},
   "source": [
    "## Decision Tree"
   ]
  },
  {
   "cell_type": "code",
   "execution_count": 140,
   "metadata": {},
   "outputs": [],
   "source": [
    "from sklearn.model_selection import RandomizedSearchCV"
   ]
  },
  {
   "cell_type": "code",
   "execution_count": 141,
   "metadata": {},
   "outputs": [],
   "source": [
    "from sklearn.tree import DecisionTreeClassifier"
   ]
  },
  {
   "cell_type": "code",
   "execution_count": 142,
   "metadata": {},
   "outputs": [],
   "source": [
    "dtc = DecisionTreeClassifier()"
   ]
  },
  {
   "cell_type": "markdown",
   "metadata": {},
   "source": [
    "### Without Upsampling"
   ]
  },
  {
   "cell_type": "code",
   "execution_count": 160,
   "metadata": {},
   "outputs": [],
   "source": [
    "params = dict(criterion=['gini', 'entropy'],\n",
    "    max_depth=[9,10,11],\n",
    "    min_samples_leaf=[.0001,.0005, .001])"
   ]
  },
  {
   "cell_type": "code",
   "execution_count": 161,
   "metadata": {},
   "outputs": [],
   "source": [
    "rs_tree = RandomizedSearchCV(dtc, params, cv=10,scoring='accuracy', verbose=2, n_jobs=-1)"
   ]
  },
  {
   "cell_type": "code",
   "execution_count": 162,
   "metadata": {},
   "outputs": [
    {
     "name": "stdout",
     "output_type": "stream",
     "text": [
      "Fitting 10 folds for each of 10 candidates, totalling 100 fits\n"
     ]
    },
    {
     "name": "stderr",
     "output_type": "stream",
     "text": [
      "[Parallel(n_jobs=-1)]: Using backend LokyBackend with 4 concurrent workers.\n",
      "[Parallel(n_jobs=-1)]: Done  33 tasks      | elapsed:    3.9s\n",
      "[Parallel(n_jobs=-1)]: Done 100 out of 100 | elapsed:   11.4s finished\n"
     ]
    },
    {
     "data": {
      "text/plain": [
       "RandomizedSearchCV(cv=10, error_score='raise-deprecating',\n",
       "          estimator=DecisionTreeClassifier(class_weight=None, criterion='gini', max_depth=None,\n",
       "            max_features=None, max_leaf_nodes=None,\n",
       "            min_impurity_decrease=0.0, min_impurity_split=None,\n",
       "            min_samples_leaf=1, min_samples_split=2,\n",
       "            min_weight_fraction_leaf=0.0, presort=False, random_state=None,\n",
       "            splitter='best'),\n",
       "          fit_params=None, iid='warn', n_iter=10, n_jobs=-1,\n",
       "          param_distributions={'criterion': ['gini', 'entropy'], 'max_depth': [9, 10, 11], 'min_samples_leaf': [0.0001, 0.0005, 0.001]},\n",
       "          pre_dispatch='2*n_jobs', random_state=None, refit=True,\n",
       "          return_train_score='warn', scoring='accuracy', verbose=2)"
      ]
     },
     "execution_count": 162,
     "metadata": {},
     "output_type": "execute_result"
    }
   ],
   "source": [
    "rs_tree.fit(X_train, y_train)"
   ]
  },
  {
   "cell_type": "code",
   "execution_count": 163,
   "metadata": {},
   "outputs": [
    {
     "data": {
      "text/plain": [
       "{'min_samples_leaf': 0.0005, 'max_depth': 10, 'criterion': 'gini'}"
      ]
     },
     "execution_count": 163,
     "metadata": {},
     "output_type": "execute_result"
    }
   ],
   "source": [
    "rs_tree.best_params_"
   ]
  },
  {
   "cell_type": "code",
   "execution_count": 164,
   "metadata": {},
   "outputs": [],
   "source": [
    "pred_train_tree = rs_tree.best_estimator_.predict(X_train)\n",
    "pred_test_tree = rs_tree.best_estimator_.predict(X_test)"
   ]
  },
  {
   "cell_type": "code",
   "execution_count": 165,
   "metadata": {},
   "outputs": [
    {
     "name": "stdout",
     "output_type": "stream",
     "text": [
      "Accuracy train:  0.8672996581845803\n",
      "Accuracy test:  0.827460510328068\n"
     ]
    }
   ],
   "source": [
    "print('Accuracy train: ', accuracy_score(y_train, pred_train_tree))\n",
    "print('Accuracy test: ', accuracy_score(y_test, pred_test_tree))"
   ]
  },
  {
   "cell_type": "code",
   "execution_count": 166,
   "metadata": {},
   "outputs": [
    {
     "data": {
      "text/plain": [
       "Text(42.0, 0.5, 'True Label')"
      ]
     },
     "execution_count": 166,
     "metadata": {},
     "output_type": "execute_result"
    },
    {
     "data": {
      "image/png": "[encoded data removed]",
      "text/plain": [
       "<Figure size 504x504 with 2 Axes>"
      ]
     },
     "metadata": {
      "needs_background": "light"
     },
     "output_type": "display_data"
    }
   ],
   "source": [
    "cm_tree = confusion_matrix(y_test, pred_test_tree)\n",
    "\n",
    "plt.figure(figsize = (7, 7))\n",
    "sns.heatmap(cm_tree, annot = True, fmt = \".3f\", linewidths = .5, square = True, cmap = \"YlGnBu\")\n",
    "plt.title('Decision Tree')\n",
    "plt.xlabel('Predicted Label')\n",
    "plt.ylabel('True Label')"
   ]
  },
  {
   "cell_type": "markdown",
   "metadata": {},
   "source": [
    "### With Upsampling"
   ]
  },
  {
   "cell_type": "code",
   "execution_count": 175,
   "metadata": {},
   "outputs": [],
   "source": [
    "params_sm = dict(criterion=['gini', 'entropy'],\n",
    "    max_depth=[12,13,14],\n",
    "    min_samples_leaf=[.0001,.0005, .001])"
   ]
  },
  {
   "cell_type": "code",
   "execution_count": 176,
   "metadata": {},
   "outputs": [],
   "source": [
    "rs_tree_sm = RandomizedSearchCV(dtc, params_sm, cv=10,scoring='accuracy', verbose=2, n_jobs=-1)"
   ]
  },
  {
   "cell_type": "code",
   "execution_count": 177,
   "metadata": {},
   "outputs": [
    {
     "name": "stdout",
     "output_type": "stream",
     "text": [
      "Fitting 10 folds for each of 10 candidates, totalling 100 fits\n"
     ]
    },
    {
     "name": "stderr",
     "output_type": "stream",
     "text": [
      "[Parallel(n_jobs=-1)]: Using backend LokyBackend with 4 concurrent workers.\n",
      "[Parallel(n_jobs=-1)]: Done  33 tasks      | elapsed:    8.5s\n",
      "[Parallel(n_jobs=-1)]: Done 100 out of 100 | elapsed:   23.9s finished\n"
     ]
    },
    {
     "data": {
      "text/plain": [
       "RandomizedSearchCV(cv=10, error_score='raise-deprecating',\n",
       "          estimator=DecisionTreeClassifier(class_weight=None, criterion='gini', max_depth=None,\n",
       "            max_features=None, max_leaf_nodes=None,\n",
       "            min_impurity_decrease=0.0, min_impurity_split=None,\n",
       "            min_samples_leaf=1, min_samples_split=2,\n",
       "            min_weight_fraction_leaf=0.0, presort=False, random_state=None,\n",
       "            splitter='best'),\n",
       "          fit_params=None, iid='warn', n_iter=10, n_jobs=-1,\n",
       "          param_distributions={'criterion': ['gini', 'entropy'], 'max_depth': [12, 13, 14], 'min_samples_leaf': [0.0001, 0.0005, 0.001]},\n",
       "          pre_dispatch='2*n_jobs', random_state=None, refit=True,\n",
       "          return_train_score='warn', scoring='accuracy', verbose=2)"
      ]
     },
     "execution_count": 177,
     "metadata": {},
     "output_type": "execute_result"
    }
   ],
   "source": [
    "rs_tree_sm.fit(X_train_sm, y_train_sm)"
   ]
  },
  {
   "cell_type": "code",
   "execution_count": 178,
   "metadata": {},
   "outputs": [
    {
     "data": {
      "text/plain": [
       "{'min_samples_leaf': 0.0001, 'max_depth': 13, 'criterion': 'entropy'}"
      ]
     },
     "execution_count": 178,
     "metadata": {},
     "output_type": "execute_result"
    }
   ],
   "source": [
    "rs_tree_sm.best_params_"
   ]
  },
  {
   "cell_type": "code",
   "execution_count": 179,
   "metadata": {},
   "outputs": [],
   "source": [
    "pred_train_treesm = rs_tree_sm.best_estimator_.predict(X_train)\n",
    "pred_test_treesm = rs_tree_sm.best_estimator_.predict(X_test)"
   ]
  },
  {
   "cell_type": "code",
   "execution_count": 180,
   "metadata": {},
   "outputs": [
    {
     "name": "stdout",
     "output_type": "stream",
     "text": [
      "Accuracy train:  0.9160653247246487\n",
      "Accuracy test:  0.8280680437424058\n"
     ]
    }
   ],
   "source": [
    "print('Accuracy train: ', accuracy_score(y_train, pred_train_treesm))\n",
    "print('Accuracy test: ', accuracy_score(y_test, pred_test_treesm))"
   ]
  },
  {
   "cell_type": "code",
   "execution_count": 182,
   "metadata": {},
   "outputs": [
    {
     "data": {
      "text/plain": [
       "Text(42.0, 0.5, 'True Label')"
      ]
     },
     "execution_count": 182,
     "metadata": {},
     "output_type": "execute_result"
    },
    {
     "data": {
      "image/png": "[encoded data removed]",
      "text/plain": [
       "<Figure size 504x504 with 2 Axes>"
      ]
     },
     "metadata": {
      "needs_background": "light"
     },
     "output_type": "display_data"
    }
   ],
   "source": [
    "cm_treesm = confusion_matrix(y_test, pred_test_treesm)\n",
    "\n",
    "plt.figure(figsize = (7, 7))\n",
    "sns.heatmap(cm_treesm, annot = True, fmt = \".3f\", linewidths = .5, square = True, cmap = \"YlGnBu\")\n",
    "plt.title('Upsampled Decision Tree')\n",
    "plt.xlabel('Predicted Label')\n",
    "plt.ylabel('True Label')"
   ]
  },
  {
   "cell_type": "code",
   "execution_count": 183,
   "metadata": {},
   "outputs": [],
   "source": [
    "importances = rs_tree_sm.best_estimator_.feature_importances_"
   ]
  },
  {
   "cell_type": "code",
   "execution_count": 189,
   "metadata": {},
   "outputs": [
    {
     "data": {
      "image/png": "[encoded data removed]",
      "text/plain": [
       "<Figure size 864x432 with 1 Axes>"
      ]
     },
     "metadata": {
      "needs_background": "light"
     },
     "output_type": "display_data"
    }
   ],
   "source": [
    "# Sort feature importances in descending order\n",
    "indices = np.argsort(importances)[::-1]\n",
    "\n",
    "# Rearrange feature names so they match the sorted feature importances\n",
    "names = [modeling.drop('Outcome Type', axis=1).columns[i] for i in indices]\n",
    "\n",
    "# Create plot\n",
    "plt.figure(figsize=(12,6))\n",
    "# Create plot title\n",
    "plt.title(\"Feature Importance\")\n",
    "# Add bars\n",
    "plt.bar(range(len(modeling.drop('Outcome Type', axis=1).columns)), importances[indices])\n",
    "# Add feature names as x-axis labels\n",
    "plt.xticks(range(len(modeling.drop('Outcome Type', axis=1).columns)), names, rotation=90)\n",
    "# Show plot\n",
    "plt.show()"
   ]
  },
  {
   "cell_type": "code",
   "execution_count": null,
   "metadata": {},
   "outputs": [],
   "source": []
  },
  {
   "cell_type": "code",
   "execution_count": null,
   "metadata": {},
   "outputs": [],
   "source": []
  },
  {
   "cell_type": "markdown",
   "metadata": {},
   "source": [
    "## KNN"
   ]
  },
  {
   "cell_type": "code",
   "execution_count": null,
   "metadata": {},
   "outputs": [],
   "source": []
  }
 ],
 "metadata": {
  "kernelspec": {
   "display_name": "Python 3",
   "language": "python",
   "name": "python3"
  },
  "language_info": {
   "codemirror_mode": {
    "name": "ipython",
    "version": 3
   },
   "file_extension": ".py",
   "mimetype": "text/x-python",
   "name": "python",
   "nbconvert_exporter": "python",
   "pygments_lexer": "ipython3",
   "version": "3.7.2"
  },
  "toc": {
   "base_numbering": 1,
   "nav_menu": {},
   "number_sections": true,
   "sideBar": true,
   "skip_h1_title": false,
   "title_cell": "Table of Contents",
   "title_sidebar": "Contents",
   "toc_cell": false,
   "toc_position": {},
   "toc_section_display": true,
   "toc_window_display": true
  }
 },
 "nbformat": 4,
 "nbformat_minor": 2
}
